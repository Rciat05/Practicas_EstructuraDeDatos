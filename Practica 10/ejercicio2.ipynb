{
 "cells": [
  {
   "cell_type": "code",
   "execution_count": 1,
   "metadata": {},
   "outputs": [
    {
     "ename": "ModuleNotFoundError",
     "evalue": "No module named 'pandas'",
     "output_type": "error",
     "traceback": [
      "\u001b[1;31m---------------------------------------------------------------------------\u001b[0m",
      "\u001b[1;31mModuleNotFoundError\u001b[0m                       Traceback (most recent call last)",
      "\u001b[1;32mc:\\Desktop\\Escritorio 2023\\Ciclo 2-2023\\Estructura de datos\\Practicas\\Practica 10\\ejercicio2.ipynb Celda 1\u001b[0m line \u001b[0;36m1\n\u001b[1;32m----> <a href='vscode-notebook-cell:/c%3A/Desktop/Escritorio%202023/Ciclo%202-2023/Estructura%20de%20datos/Practicas/Practica%2010/ejercicio2.ipynb#W0sZmlsZQ%3D%3D?line=0'>1</a>\u001b[0m \u001b[39mimport\u001b[39;00m \u001b[39mpandas\u001b[39;00m \u001b[39mas\u001b[39;00m \u001b[39mpd\u001b[39;00m\n\u001b[0;32m      <a href='vscode-notebook-cell:/c%3A/Desktop/Escritorio%202023/Ciclo%202-2023/Estructura%20de%20datos/Practicas/Practica%2010/ejercicio2.ipynb#W0sZmlsZQ%3D%3D?line=1'>2</a>\u001b[0m \u001b[39mimport\u001b[39;00m \u001b[39mmatplotlib\u001b[39;00m\u001b[39m.\u001b[39;00m\u001b[39mpyplot\u001b[39;00m \u001b[39mas\u001b[39;00m \u001b[39mplt\u001b[39;00m\n\u001b[0;32m      <a href='vscode-notebook-cell:/c%3A/Desktop/Escritorio%202023/Ciclo%202-2023/Estructura%20de%20datos/Practicas/Practica%2010/ejercicio2.ipynb#W0sZmlsZQ%3D%3D?line=3'>4</a>\u001b[0m \u001b[39m# Paso 1: Cargar los datos con Pandas\u001b[39;00m\n",
      "\u001b[1;31mModuleNotFoundError\u001b[0m: No module named 'pandas'"
     ]
    }
   ],
   "source": [
    "import pandas as pd\n",
    "import matplotlib.pyplot as plt\n",
    "\n",
    "# Paso 1: Cargar los datos con Pandas\n",
    "try:\n",
    "    df = pd.read_csv(\"puntajes.csv\")\n",
    "except FileNotFoundError:\n",
    "    raise Exception(\"El archivo 'puntajes.csv' no se encontró en el directorio.\")\n",
    "\n",
    "# Asegurémonos de que el DataFrame tenga las columnas correctas\n",
    "if \"Examen1\" not in df.columns or \"Examen2\" not in df.columns:\n",
    "    raise Exception(\"El archivo CSV debe contener las columnas 'Examen1' y 'Examen2'.\")\n",
    "\n",
    "# Paso 2: Crear el gráfico de áreas con Matplotlib\n",
    "try:\n",
    "    plt.fill_between(df[\"Examen1\"], df[\"Examen2\"], alpha=0.5)\n",
    "    plt.xlabel(\"Puntajes del Examen 1\")\n",
    "    plt.ylabel(\"Puntajes del Examen 2\")\n",
    "    plt.title(\"Relación entre Puntajes de Examen 1 y Examen 2\")\n",
    "    plt.show()\n",
    "except Exception as e:\n",
    "    print(\"Ocurrió un error al crear el gráfico:\", str(e))\n"
   ]
  }
 ],
 "metadata": {
  "kernelspec": {
   "display_name": "Python 3",
   "language": "python",
   "name": "python3"
  },
  "language_info": {
   "codemirror_mode": {
    "name": "ipython",
    "version": 3
   },
   "file_extension": ".py",
   "mimetype": "text/x-python",
   "name": "python",
   "nbconvert_exporter": "python",
   "pygments_lexer": "ipython3",
   "version": "3.11.4"
  }
 },
 "nbformat": 4,
 "nbformat_minor": 2
}
